{
  "cells": [
    {
      "cell_type": "code",
      "execution_count": null,
      "metadata": {
        "colab": {
          "base_uri": "https://localhost:8080/",
          "height": 73
        },
        "id": "66Pixe5xz_PN",
        "outputId": "bcbab561-9637-4865-c55f-86a723667ae2"
      },
      "outputs": [],
      "source": [
        "from google.colab import files\n",
        "uploaded = files.upload()"
      ]
    },
    {
      "cell_type": "code",
      "execution_count": null,
      "metadata": {
        "colab": {
          "base_uri": "https://localhost:8080/",
          "height": 206
        },
        "id": "VuF60uaj0IFB",
        "outputId": "e419a3c7-1b65-4e9f-93c9-f24a55639d9e"
      },
      "outputs": [],
      "source": [
        "import pandas as pd\n",
        "\n",
        "# Replace with your actual filename\n",
        "df = pd.read_csv(\"Internet Service Provider.csv\")\n",
        "df.head()"
      ]
    },
    {
      "cell_type": "code",
      "execution_count": null,
      "metadata": {
        "colab": {
          "base_uri": "https://localhost:8080/"
        },
        "id": "FhiTMv_pmj6G",
        "outputId": "90878aba-d730-4124-8f3b-f19b5f3f76b9"
      },
      "outputs": [],
      "source": [
        "df.columns"
      ]
    },
    {
      "cell_type": "code",
      "execution_count": null,
      "metadata": {
        "id": "tjPZrveZ3tPv"
      },
      "outputs": [],
      "source": [
        "reviews_df = df.copy()"
      ]
    },
    {
      "cell_type": "code",
      "execution_count": null,
      "metadata": {
        "id": "uJS-cOEToByA"
      },
      "outputs": [],
      "source": [
        "reviews_df.drop_duplicates(subset=['ID', 'number_reviews', 'Today', 'review_text', 'likes'], inplace=True)"
      ]
    },
    {
      "cell_type": "code",
      "execution_count": null,
      "metadata": {
        "colab": {
          "base_uri": "https://localhost:8080/"
        },
        "id": "4_gfq1ABoHKk",
        "outputId": "deef580b-f9f3-4a15-93fc-1edd1ba5be4d"
      },
      "outputs": [],
      "source": [
        "print(\"Before:\", df.shape)\n",
        "print(\"After:\", reviews_df.shape)"
      ]
    },
    {
      "cell_type": "code",
      "execution_count": null,
      "metadata": {
        "id": "-KRHkLEU6BoY"
      },
      "outputs": [],
      "source": [
        "import re\n",
        "\n",
        "def clean_review(text):\n",
        "    if not isinstance(text, str):\n",
        "        return \"\"\n",
        "\n",
        "    # Fix common mojibake (encoding issues)\n",
        "    text = text.encode('latin1', errors='ignore').decode('utf-8', errors='ignore')\n",
        "\n",
        "    # Remove strange characters (non-ASCII)\n",
        "    text = re.sub(r'[^\\x00-\\x7F]+', '', text)\n",
        "\n",
        "    # Optional: Remove extra spaces or trailing dots\n",
        "    text = re.sub(r'\\s+', ' ', text).strip()\n",
        "\n",
        "    text = re.sub(r'Edited Review.*?:', '', text, flags=re.IGNORECASE)\n",
        "\n",
        "    text = re.sub(r'\\b[a-zA-Z]\\b', '', text)\n",
        "    text = re.sub(r'\\s+', ' ', text)\n",
        "    text = text.strip()\n",
        "    text = re.sub(r'\\s+', ' ', text)\n",
        "\n",
        "    return text\n"
      ]
    },
    {
      "cell_type": "code",
      "execution_count": null,
      "metadata": {
        "id": "YT0BlQ2m6L6b"
      },
      "outputs": [],
      "source": [
        "reviews_df[\"clean_text\"] = reviews_df[\"review_text\"].apply(clean_review)"
      ]
    },
    {
      "cell_type": "code",
      "execution_count": null,
      "metadata": {
        "id": "MOggNuQ2-LPG"
      },
      "outputs": [],
      "source": [
        "# Show full text in each cell\n",
        "pd.set_option('display.max_colwidth', None)\n",
        "\n",
        "# If also working with large rows or many columns, you can increase this too:\n",
        "pd.set_option('display.max_rows', 100)\n",
        "pd.set_option('display.max_columns', 100)"
      ]
    },
    {
      "cell_type": "code",
      "execution_count": null,
      "metadata": {
        "colab": {
          "base_uri": "https://localhost:8080/",
          "height": 483
        },
        "id": "CZp0_8C16Q-T",
        "outputId": "e26f3494-b46a-4395-dd4a-74c2d8447056"
      },
      "outputs": [],
      "source": [
        "reviews_df.head()"
      ]
    },
    {
      "cell_type": "code",
      "execution_count": null,
      "metadata": {
        "id": "E2E9oZfE68zE"
      },
      "outputs": [],
      "source": [
        "# Drop the old, unclean 'review_text' column\n",
        "reviews_df.drop(columns=[\"review_text\"], inplace=True)\n",
        "\n",
        "# Rename 'clean_text' to 'review_text'\n",
        "reviews_df.rename(columns={\"clean_text\": \"review_text\"}, inplace=True)\n",
        "\n",
        "\n",
        "# Rename 'clean_text' to 'review_text'\n",
        "reviews_df.rename(columns={\"ID\": \"id\"}, inplace=True)"
      ]
    },
    {
      "cell_type": "code",
      "execution_count": null,
      "metadata": {
        "colab": {
          "base_uri": "https://localhost:8080/"
        },
        "id": "tbLfqKCQoQv-",
        "outputId": "786fe909-1c80-4701-bbe9-b1c7823b7804"
      },
      "outputs": [],
      "source": [
        "reviews_df.info()"
      ]
    },
    {
      "cell_type": "code",
      "execution_count": null,
      "metadata": {
        "colab": {
          "base_uri": "https://localhost:8080/"
        },
        "id": "HibeTZRope5p",
        "outputId": "7eecf367-87ee-416f-9bf7-b7af73de5b13"
      },
      "outputs": [],
      "source": [
        "import torch\n",
        "device=0 if torch.cuda.is_available() else -1\n",
        "# Check GPU status\n",
        "\n",
        "torch.cuda.is_available()"
      ]
    },
    {
      "cell_type": "code",
      "execution_count": null,
      "metadata": {
        "colab": {
          "base_uri": "https://localhost:8080/",
          "height": 310
        },
        "id": "GHHothmt-iDU",
        "outputId": "edf2b680-27c2-41cc-8be9-2173e59d8fa0"
      },
      "outputs": [],
      "source": [
        "reviews_df.head()"
      ]
    },
    {
      "cell_type": "code",
      "execution_count": null,
      "metadata": {
        "colab": {
          "base_uri": "https://localhost:8080/"
        },
        "id": "7AL-FgBc3kn2",
        "outputId": "3a747b46-23fd-4f1c-eb43-c2acff8003c5"
      },
      "outputs": [],
      "source": [
        "from transformers import pipeline\n",
        "import pandas as pd\n",
        "import torch\n",
        "\n",
        "# ✅ STEP 3: Load the sentiment analysis pipeline\n",
        "sentiment_pipeline = pipeline(\n",
        "    \"sentiment-analysis\",\n",
        "    model=\"nlptown/bert-base-multilingual-uncased-sentiment\",\n",
        "    tokenizer=\"nlptown/bert-base-multilingual-uncased-sentiment\",\n",
        "    device=0 if torch.cuda.is_available() else -1\n",
        ")"
      ]
    },
    {
      "cell_type": "code",
      "execution_count": null,
      "metadata": {
        "colab": {
          "base_uri": "https://localhost:8080/"
        },
        "id": "3HRIjy0L6qf5",
        "outputId": "ae5e3f11-2705-4760-fe99-d8d4c5beb360"
      },
      "outputs": [],
      "source": [
        "review = \"\"\"While the internet speed during the day is generally good and streaming works well, the frequent disconnections at night, combined with the unresponsive customer support, make the overall experience very frustrating.\"\"\"\n",
        "result = sentiment_pipeline(review)\n",
        "print(result)"
      ]
    },
    {
      "cell_type": "code",
      "execution_count": null,
      "metadata": {
        "id": "i4ike1DE2p87"
      },
      "outputs": [],
      "source": [
        "# ✅ STEP 5: Apply the sentiment pipeline in batches\n",
        "def predict_sentiment_batch(reviews, batch_size=32):\n",
        "    results = []\n",
        "    for i in range(0, len(reviews), batch_size):\n",
        "        batch = reviews[i:i+batch_size].tolist()\n",
        "        outputs = sentiment_pipeline(batch)\n",
        "        for o in outputs:\n",
        "            results.append((o[\"label\"], o[\"score\"]))\n",
        "    return results\n",
        "\n",
        "# Run sentiment predictions\n",
        "sentiments = predict_sentiment_batch(reviews_df[\"review_text\"])"
      ]
    },
    {
      "cell_type": "code",
      "execution_count": null,
      "metadata": {
        "id": "6459CzN98BEK"
      },
      "outputs": [],
      "source": [
        "\n",
        "# ✅ STEP 6: Add results to DataFrame\n",
        "reviews_df[\"predicted_score\"] = [label for label, _ in sentiments]\n",
        "reviews_df[\"confidence_score\"] = [score for _, score in sentiments]"
      ]
    },
    {
      "cell_type": "code",
      "execution_count": null,
      "metadata": {
        "id": "lWIHEg7t8F9K"
      },
      "outputs": [],
      "source": [
        "# ✅ STEP 7: Map star labels to sentiment classes\n",
        "def map_star_to_sentiment(label):\n",
        "    try:\n",
        "        star = int(label.split()[0])\n",
        "        if star <= 2:\n",
        "            return \"Negative\"\n",
        "        elif star == 3:\n",
        "            return \"Neutral\"\n",
        "        else:\n",
        "            return \"Positive\"\n",
        "    except:\n",
        "        return \"Unknown\"\n",
        "\n",
        "reviews_df[\"sentiment\"] = reviews_df[\"predicted_score\"].apply(map_star_to_sentiment)"
      ]
    },
    {
      "cell_type": "code",
      "execution_count": null,
      "metadata": {
        "colab": {
          "base_uri": "https://localhost:8080/",
          "height": 449
        },
        "id": "NtZYjK2t8zPQ",
        "outputId": "8bb14cbc-02ca-44fc-a08c-b3519a9e9519"
      },
      "outputs": [],
      "source": [
        "reviews_df.head()"
      ]
    },
    {
      "cell_type": "code",
      "execution_count": null,
      "metadata": {
        "id": "gDkM-u089YAn"
      },
      "outputs": [],
      "source": [
        "import pandas as pd\n",
        "import matplotlib.pyplot as plt"
      ]
    },
    {
      "cell_type": "code",
      "execution_count": null,
      "metadata": {
        "colab": {
          "base_uri": "https://localhost:8080/",
          "height": 520
        },
        "id": "03OWBltK8mhh",
        "outputId": "9a2133a2-72f8-4a9c-efb0-3a59ab818572"
      },
      "outputs": [],
      "source": [
        "ax = reviews_df['predicted_score'].value_counts().sort_index() \\\n",
        "    .plot(kind='bar',\n",
        "          title='Count of Reviews by Stars',\n",
        "          figsize=(10, 5))\n",
        "ax.set_xlabel('Review Stars')\n",
        "plt.show()"
      ]
    },
    {
      "cell_type": "code",
      "execution_count": null,
      "metadata": {
        "colab": {
          "base_uri": "https://localhost:8080/"
        },
        "id": "ctMHqhPq_KIj",
        "outputId": "719c7835-4d33-472d-8f0e-763c1f32c33a"
      },
      "outputs": [],
      "source": [
        "reviews_df.info()"
      ]
    },
    {
      "cell_type": "code",
      "execution_count": null,
      "metadata": {
        "colab": {
          "base_uri": "https://localhost:8080/"
        },
        "id": "j66B2XiZ-6nG",
        "outputId": "dc15932c-455b-438d-f991-2fec8ff2949a"
      },
      "outputs": [],
      "source": [
        "\n",
        "# ✅ STEP 8: Save to CSV\n",
        "reviews_df.to_csv(\"wifi_reviews_sentiment.csv\", index=False)\n",
        "print(\"Sentiment analysis complete. Results saved to 'wifi_reviews_sentiment.csv'\")"
      ]
    },
    {
      "cell_type": "code",
      "execution_count": null,
      "metadata": {
        "colab": {
          "base_uri": "https://localhost:8080/",
          "height": 17
        },
        "id": "FjD0GN0C-vx5",
        "outputId": "1b522a1b-9d99-4cc7-fea3-e1c30a12e269"
      },
      "outputs": [],
      "source": [
        "from google.colab import files\n",
        "files.download(\"wifi_reviews_sentiment.csv\")\n"
      ]
    },
    {
      "cell_type": "code",
      "execution_count": null,
      "metadata": {
        "id": "1Rui2KICBaoZ"
      },
      "outputs": [],
      "source": [
        "!pip install wordcloud nltk --quiet"
      ]
    },
    {
      "cell_type": "code",
      "execution_count": null,
      "metadata": {
        "colab": {
          "base_uri": "https://localhost:8080/"
        },
        "id": "XE9uW-fQBaXp",
        "outputId": "859bad8f-0f23-4b07-e4dd-917eeedf0eb8"
      },
      "outputs": [],
      "source": [
        "import pandas as pd\n",
        "import nltk\n",
        "from wordcloud import WordCloud\n",
        "import matplotlib.pyplot as plt\n",
        "import string\n",
        "import re\n",
        "\n",
        "# Download NLTK stopwords\n",
        "nltk.download('stopwords')\n",
        "from nltk.corpus import stopwords"
      ]
    },
    {
      "cell_type": "code",
      "execution_count": null,
      "metadata": {
        "colab": {
          "base_uri": "https://localhost:8080/",
          "height": 449
        },
        "id": "vh8hzrQQBilO",
        "outputId": "e9f1eb98-e7b0-46fe-ff63-bfa3d43a9f61"
      },
      "outputs": [],
      "source": [
        "sentiment = pd.read_csv(\"wifi_reviews_sentiment.csv\")\n",
        "sentiment.head()"
      ]
    },
    {
      "cell_type": "code",
      "execution_count": null,
      "metadata": {
        "id": "lxeIScu2B29g"
      },
      "outputs": [],
      "source": [
        "def clean_text(text):\n",
        "    text = str(text).lower()                                # lowercase\n",
        "    text = re.sub(r'\\d+', '', text)                         # remove numbers\n",
        "    text = text.translate(str.maketrans('', '', string.punctuation))  # remove punctuation\n",
        "    tokens = text.split()                                   # tokenize\n",
        "    tokens = [word for word in tokens if word not in stopwords.words('english')]  # remove stopwords\n",
        "    return \" \".join(tokens)\n",
        "\n",
        "sentiment['cleaned_text'] = df['review_text'].apply(clean_text)"
      ]
    },
    {
      "cell_type": "code",
      "execution_count": null,
      "metadata": {
        "colab": {
          "base_uri": "https://localhost:8080/",
          "height": 603
        },
        "id": "D9geLPIOB6d4",
        "outputId": "79429e41-60f9-43e8-91e9-9c017a048b49"
      },
      "outputs": [],
      "source": [
        "# Combine all cleaned reviews into a single string\n",
        "all_text = \" \".join(sentiment['cleaned_text'].dropna())\n",
        "\n",
        "# Generate word cloud\n",
        "wordcloud = WordCloud(width=800, height=400, background_color='white', colormap='viridis').generate(all_text)\n",
        "\n",
        "# Display it\n",
        "plt.figure(figsize=(15, 7))\n",
        "plt.imshow(wordcloud, interpolation='bilinear')\n",
        "plt.axis('off')\n",
        "plt.title(\"Most Frequent Words in Reviews\", fontsize=18)\n",
        "plt.show()"
      ]
    },
    {
      "cell_type": "code",
      "execution_count": null,
      "metadata": {
        "colab": {
          "base_uri": "https://localhost:8080/",
          "height": 17
        },
        "id": "_I8HIzIuDQXB",
        "outputId": "f8b488aa-4aa6-425d-864a-bf76e1bf115e"
      },
      "outputs": [],
      "source": [
        "wordcloud.to_file(\"reviews_wordcloud.png\")\n",
        "files.download(\"reviews_wordcloud.png\")"
      ]
    }
  ],
  "metadata": {
    "accelerator": "GPU",
    "colab": {
      "gpuType": "T4",
      "provenance": []
    },
    "kernelspec": {
      "display_name": "Python 3",
      "name": "python3"
    },
    "language_info": {
      "name": "python"
    }
  },
  "nbformat": 4,
  "nbformat_minor": 0
}
